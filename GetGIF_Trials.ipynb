{
 "cells": [
  {
   "cell_type": "code",
   "execution_count": 1,
   "id": "462106f6",
   "metadata": {},
   "outputs": [
    {
     "name": "stderr",
     "output_type": "stream",
     "text": [
      "/Users/nandinibohra/Desktop/VSCodeFiles/CatGPT/.venv/lib/python3.12/site-packages/tqdm/auto.py:21: TqdmWarning: IProgress not found. Please update jupyter and ipywidgets. See https://ipywidgets.readthedocs.io/en/stable/user_install.html\n",
      "  from .autonotebook import tqdm as notebook_tqdm\n"
     ]
    }
   ],
   "source": [
    "import requests\n",
    "import random\n",
    "from transformers import pipeline"
   ]
  },
  {
   "cell_type": "code",
   "execution_count": 2,
   "id": "d0840d53",
   "metadata": {},
   "outputs": [
    {
     "name": "stderr",
     "output_type": "stream",
     "text": [
      "Device set to use cpu\n",
      "/Users/nandinibohra/Desktop/VSCodeFiles/CatGPT/.venv/lib/python3.12/site-packages/transformers/pipelines/text_classification.py:111: UserWarning: `return_all_scores` is now deprecated,  if want a similar functionality use `top_k=None` instead of `return_all_scores=True` or `top_k=1` instead of `return_all_scores=False`.\n",
      "  warnings.warn(\n"
     ]
    }
   ],
   "source": [
    "# Going with J-Hartmann's DistilRoBERTa model for sentiment classification\n",
    "emotion_model = pipeline(\"text-classification\", \n",
    "                         model=\"j-hartmann/emotion-english-distilroberta-base\", \n",
    "                         return_all_scores=True)"
   ]
  },
  {
   "cell_type": "code",
   "execution_count": 3,
   "id": "8e14eff9",
   "metadata": {},
   "outputs": [],
   "source": [
    "# Up-sampling the emotions + adding adjectives for diverse searches:\n",
    "emotion_labels_upsampled = {\n",
    "    \"anger\": [\"angry\", \"furious\", \"mad\", \"annoyed\", \"irritated\", \"upset\"],\n",
    "    \"disgust\": [\"gross\", \"ew\", \"grossed out\", \"puke\"],\n",
    "    \"fear\": [\"scared\", \"worried\", \"terrified\", \"anxious\"],\n",
    "    \"joy\": [\"happy\", \"excited\", \"joy\", \"dancing\", \"woohoo\",\"yay\", \"yippee\", \"cute\"],\n",
    "    \"neutral\": [\"neutral\", \"sleeping\", \"cool\", \"alright\", \"nice\", \"chill\"],\n",
    "    \"sadness\": [\"sad\", \"unhappy\", \"crying\", \"sobbing\", \"lonely\"],\n",
    "    \"surprise\": [\"surprised\", \"shocked\", \"startled\"]\n",
    "}"
   ]
  },
  {
   "cell_type": "code",
   "execution_count": 62,
   "id": "94a793bc",
   "metadata": {},
   "outputs": [
    {
     "name": "stdout",
     "output_type": "stream",
     "text": [
      "sadness\n",
      "['sad cat', 'unhappy cat']\n"
     ]
    }
   ],
   "source": [
    "text = \"I'm soooo tired.\"\n",
    "\n",
    "label = emotion_model(text)[0]\n",
    "label = max(label, key=lambda x: x['score'])['label']\n",
    "print(label)\n",
    "\n",
    "label_synonyms = emotion_labels_upsampled.get(label, [\"cat\"]) # find synonyms of label, else return default cat\n",
    "queries = [f\"{s} cat\" for s in random.sample(label_synonyms, min(2, len(label_synonyms)))]\n",
    "print(queries)"
   ]
  },
  {
   "cell_type": "code",
   "execution_count": 63,
   "id": "31327449",
   "metadata": {},
   "outputs": [
    {
     "data": {
      "text/plain": [
       "True"
      ]
     },
     "execution_count": 63,
     "metadata": {},
     "output_type": "execute_result"
    }
   ],
   "source": [
    "import os\n",
    "from dotenv import load_dotenv\n",
    "load_dotenv()"
   ]
  },
  {
   "cell_type": "code",
   "execution_count": 64,
   "id": "b8b00ab5",
   "metadata": {},
   "outputs": [],
   "source": [
    "def fetch_tenor_gifs(emotion, limit=15):\n",
    "    tenor_key = os.getenv(\"TENOR_KEY\")\n",
    "    search_terms = [f\"{emotion} cat\"]\n",
    "    results = []\n",
    "    for term in search_terms:\n",
    "        url = f\"https://tenor.googleapis.com/v2/search?q={term}&key={tenor_key}&limit={limit}&contentfilter=medium\"\n",
    "        res = requests.get(url).json()\n",
    "        # print(res)\n",
    "        results.extend(res.get(\"results\", []))\n",
    "\n",
    "        # results += [r['media_formats']['gif']['url'] for r in res['results']]\n",
    "    return results"
   ]
  },
  {
   "cell_type": "code",
   "execution_count": null,
   "id": "cec0fd29",
   "metadata": {},
   "outputs": [],
   "source": [
    "import os\n",
    "import requests\n",
    "\n",
    "def fetch_tenor_gifs(emotion, limit=15, timeout=10):\n",
    "    \"\"\"Fetch Tenor GIF results for an emotion (returns list of result dicts).\n",
    "    Checks HTTP status before parsing JSON and handles errors cleanly.\n",
    "    \"\"\"\n",
    "    tenor_key = os.getenv(\"TENOR_KEY\")\n",
    "    if not tenor_key:\n",
    "        print(\"TENOR_KEY not set. Set it in your environment or .env file.\")\n",
    "        return []\n",
    "\n",
    "    search_terms = [f\"{emotion} cat\"]\n",
    "    results = []\n",
    "\n",
    "    for term in search_terms:\n",
    "        url = f\"https://tenor.googleapis.com/v2/search?q={term}&key={tenor_key}&limit={limit}&contentfilter=medium\"\n",
    "        try:\n",
    "            resp = requests.get(url, timeout=timeout)\n",
    "            resp.raise_for_status()  # raises HTTPError for 4xx/5xx\n",
    "        except requests.exceptions.HTTPError as e:\n",
    "            # Server returned an HTTP error (4xx/5xx) — skip this term\n",
    "            print(f\"HTTP error fetching '{term}': {e}\")\n",
    "            continue\n",
    "        except requests.RequestException as e:\n",
    "            # Network-level errors (connection, timeout, DNS, etc.)\n",
    "            print(f\"Request failed for '{term}': {e}\")\n",
    "            continue\n",
    "\n",
    "        # Only now parse JSON safely\n",
    "        try:\n",
    "            data = resp.json()\n",
    "        except ValueError:\n",
    "            print(f\"Invalid JSON response for '{term}'\")\n",
    "            continue\n",
    "\n",
    "        # Merge results (use .get to avoid KeyError)\n",
    "        results.extend(data.get(\"results\", []))\n",
    "\n",
    "    return results\n",
    "\n",
    "# Example usage (run this in a notebook cell after setting TENOR_KEY):\n",
    "# gifs = fetch_tenor_gifs(\"sad\", limit=10)\n",
    "# print(f\"Found {len(gifs)} results\")\n",
    "# for g in gifs[:5]:\n",
    "#     print(g.get(\"media_formats\", {}).get(\"gif\", {}).get(\"url\"))"
   ]
  },
  {
   "cell_type": "code",
   "execution_count": 65,
   "id": "20390263",
   "metadata": {},
   "outputs": [],
   "source": [
    "def filter_tenor_results(results, emotion_keywords):\n",
    "    filtered = []\n",
    "    allowed_cats = {\"cat\", \"kitty\", \"kitten\"}\n",
    "    banned_words = {\"kiss\", \"dog\", \"puppy\", \"baby\", \"human\", \"person\"}\n",
    "\n",
    "    for r in results:\n",
    "        desc = r.get(\"content_description\", \"\").lower()\n",
    "        tags = [t.lower() for t in r.get(\"tags\", [])]\n",
    "\n",
    "        # Check if it's actually cat-related\n",
    "        is_cat = any(cat in tags or cat in desc for cat in allowed_cats)\n",
    "\n",
    "        # Check if emotion roughly matches\n",
    "        matches_emotion = any(e in desc or e in tags for e in emotion_keywords)\n",
    "\n",
    "        # Avoid irrelevant ones\n",
    "        has_banned = any(b in desc or b in tags for b in banned_words)\n",
    "\n",
    "        if is_cat and matches_emotion and not has_banned:\n",
    "            filtered.append(r)\n",
    "\n",
    "    return filtered"
   ]
  },
  {
   "cell_type": "code",
   "execution_count": 66,
   "id": "ff07ca75",
   "metadata": {},
   "outputs": [
    {
     "name": "stdout",
     "output_type": "stream",
     "text": [
      "GIFs for query 'sad cat':\n",
      "https://media.tenor.com/l3TkHdtrnV8AAAAC/puppy-dog-eyes-sad.gif\n",
      "https://media.tenor.com/LZ_NgKi0JesAAAAC/cat-sad.gif\n",
      "https://media.tenor.com/qlwiQMzHCV8AAAAC/sigh-le.gif\n",
      "https://media.tenor.com/mId08vrW5WgAAAAC/sigh-le.gif\n",
      "https://media.tenor.com/eEjOl43x05YAAAAC/cat-crying.gif\n",
      "-----------------------------------------------------------------------\n",
      "GIFs for query 'unhappy cat':\n",
      "https://media.tenor.com/LZ_NgKi0JesAAAAC/cat-sad.gif\n",
      "https://media.tenor.com/l3TkHdtrnV8AAAAC/puppy-dog-eyes-sad.gif\n",
      "https://media.tenor.com/qlwiQMzHCV8AAAAC/sigh-le.gif\n",
      "https://media.tenor.com/mId08vrW5WgAAAAC/sigh-le.gif\n",
      "-----------------------------------------------------------------------\n"
     ]
    }
   ],
   "source": [
    "for query in queries:\n",
    "    results = fetch_tenor_gifs(query)\n",
    "    emotion_kywds = label_synonyms\n",
    "    gifs = filter_tenor_results(results, emotion_kywds)\n",
    "    print(f\"GIFs for query '{query}':\")\n",
    "\n",
    "    # change toe filtered gifs if needed, filtering WIP for now\n",
    "    for gif in gifs:\n",
    "        print(gif[\"media_formats\"][\"gif\"][\"url\"])\n",
    "    print(\"-----------------------------------------------------------------------\")"
   ]
  },
  {
   "cell_type": "code",
   "execution_count": 67,
   "id": "e39eb151",
   "metadata": {},
   "outputs": [
    {
     "name": "stdout",
     "output_type": "stream",
     "text": [
      "Chosen GIF URL: https://media.tenor.com/qlwiQMzHCV8AAAAC/sigh-le.gif\n"
     ]
    }
   ],
   "source": [
    "chosen_gif = random.choice(results)\n",
    "print(\"Chosen GIF URL:\", chosen_gif[\"media_formats\"][\"gif\"][\"url\"])"
   ]
  },
  {
   "cell_type": "code",
   "execution_count": null,
   "id": "0145aa08",
   "metadata": {},
   "outputs": [],
   "source": []
  },
  {
   "cell_type": "code",
   "execution_count": null,
   "id": "2bff3a1a",
   "metadata": {},
   "outputs": [],
   "source": []
  }
 ],
 "metadata": {
  "kernelspec": {
   "display_name": ".venv",
   "language": "python",
   "name": "python3"
  },
  "language_info": {
   "codemirror_mode": {
    "name": "ipython",
    "version": 3
   },
   "file_extension": ".py",
   "mimetype": "text/x-python",
   "name": "python",
   "nbconvert_exporter": "python",
   "pygments_lexer": "ipython3",
   "version": "3.12.0"
  }
 },
 "nbformat": 4,
 "nbformat_minor": 5
}
